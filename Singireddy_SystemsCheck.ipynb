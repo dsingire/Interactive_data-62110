{
 "cells": [
  {
   "cell_type": "markdown",
   "id": "22cc14c7-c58c-4277-9650-85605fb6c36f",
   "metadata": {},
   "source": [
    "# systems check\n",
    "# divya\n",
    "# 8/20/2024"
   ]
  },
  {
   "cell_type": "code",
   "execution_count": 13,
   "id": "34490b82-4a3b-4e5d-8b6b-dcad0882b05c",
   "metadata": {},
   "outputs": [],
   "source": [
    "x = 3"
   ]
  },
  {
   "cell_type": "code",
   "execution_count": 14,
   "id": "a66dca65-942f-48dd-b3a1-17c4a3c98e39",
   "metadata": {},
   "outputs": [
    {
     "data": {
      "text/plain": [
       "3"
      ]
     },
     "execution_count": 14,
     "metadata": {},
     "output_type": "execute_result"
    }
   ],
   "source": [
    "x"
   ]
  },
  {
   "cell_type": "code",
   "execution_count": 15,
   "id": "7fc2e073-7ebd-42f8-9627-30686149db0a",
   "metadata": {},
   "outputs": [
    {
     "data": {
      "text/plain": [
       "[2, 3, 4, 5]"
      ]
     },
     "execution_count": 15,
     "metadata": {},
     "output_type": "execute_result"
    }
   ],
   "source": [
    "my_list = [2,3,4,5]\n",
    "my_list"
   ]
  },
  {
   "cell_type": "code",
   "execution_count": 17,
   "id": "7c6eb6ee-fa8a-4efc-822b-f6805d6d2e58",
   "metadata": {},
   "outputs": [],
   "source": [
    "my_list = ['now', 'see', 'this']"
   ]
  },
  {
   "cell_type": "code",
   "execution_count": 7,
   "id": "324ec13e-7a02-4d03-a118-daf01dd493de",
   "metadata": {},
   "outputs": [],
   "source": [
    "my_name = 'Divya'"
   ]
  },
  {
   "cell_type": "code",
   "execution_count": 8,
   "id": "4483d336-724c-49bc-8ee0-e9c5101ae1ac",
   "metadata": {},
   "outputs": [],
   "source": [
    "def display_name(x):\n",
    "    print(x)"
   ]
  },
  {
   "cell_type": "code",
   "execution_count": 9,
   "id": "ca00589c-84ec-4fa9-bf47-2c7492d609b9",
   "metadata": {},
   "outputs": [
    {
     "name": "stdout",
     "output_type": "stream",
     "text": [
      "Divya\n"
     ]
    }
   ],
   "source": [
    "display_name(my_name)"
   ]
  },
  {
   "cell_type": "code",
   "execution_count": 16,
   "id": "d21fac0b-f1b9-4479-9fed-26ff323546d2",
   "metadata": {},
   "outputs": [],
   "source": [
    "def change_name(x):\n",
    "    new_name = x + 'new'\n",
    "    return new_name"
   ]
  },
  {
   "cell_type": "code",
   "execution_count": 18,
   "id": "1d1cd0bb-9336-434e-9e34-01e7ea30f2bc",
   "metadata": {},
   "outputs": [
    {
     "data": {
      "text/plain": [
       "'Divyanew'"
      ]
     },
     "execution_count": 18,
     "metadata": {},
     "output_type": "execute_result"
    }
   ],
   "source": [
    "changed_name = change_name('Divya')\n",
    "changed_name\n"
   ]
  }
 ],
 "metadata": {
  "kernelspec": {
   "display_name": "Python 3 (ipykernel)",
   "language": "python",
   "name": "python3"
  },
  "language_info": {
   "codemirror_mode": {
    "name": "ipython",
    "version": 3
   },
   "file_extension": ".py",
   "mimetype": "text/x-python",
   "name": "python",
   "nbconvert_exporter": "python",
   "pygments_lexer": "ipython3",
   "version": "3.12.4"
  }
 },
 "nbformat": 4,
 "nbformat_minor": 5
}
