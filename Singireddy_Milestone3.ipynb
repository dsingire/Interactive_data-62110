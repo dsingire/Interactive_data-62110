{
 "cells": [
  {
   "cell_type": "markdown",
   "id": "03744464-5f6e-4fda-827a-6a982ff11a40",
   "metadata": {},
   "source": [
    "# **Milestone 3**"
   ]
  },
  {
   "cell_type": "code",
   "execution_count": 1,
   "id": "c1e92c98-4d99-4d6f-94b1-f30ec7056aca",
   "metadata": {},
   "outputs": [
    {
     "name": "stdout",
     "output_type": "stream",
     "text": [
      "Requirement already satisfied: dash in c:\\users\\divya\\anaconda3\\envs\\indata_fa24\\lib\\site-packages (2.14.2)\n",
      "Requirement already satisfied: Flask<3.1,>=1.0.4 in c:\\users\\divya\\anaconda3\\envs\\indata_fa24\\lib\\site-packages (from dash) (3.0.3)\n",
      "Requirement already satisfied: Werkzeug<3.1 in c:\\users\\divya\\anaconda3\\envs\\indata_fa24\\lib\\site-packages (from dash) (3.0.6)\n",
      "Requirement already satisfied: plotly>=5.0.0 in c:\\users\\divya\\anaconda3\\envs\\indata_fa24\\lib\\site-packages (from dash) (5.24.1)\n",
      "Requirement already satisfied: typing-extensions>=4.1.1 in c:\\users\\divya\\anaconda3\\envs\\indata_fa24\\lib\\site-packages (from dash) (4.11.0)\n",
      "Requirement already satisfied: requests in c:\\users\\divya\\anaconda3\\envs\\indata_fa24\\lib\\site-packages (from dash) (2.32.3)\n",
      "Requirement already satisfied: retrying in c:\\users\\divya\\anaconda3\\envs\\indata_fa24\\lib\\site-packages (from dash) (1.3.3)\n",
      "Requirement already satisfied: ansi2html in c:\\users\\divya\\anaconda3\\envs\\indata_fa24\\lib\\site-packages (from dash) (1.9.1)\n",
      "Requirement already satisfied: nest-asyncio in c:\\users\\divya\\anaconda3\\envs\\indata_fa24\\lib\\site-packages (from dash) (1.6.0)\n",
      "Requirement already satisfied: setuptools in c:\\users\\divya\\anaconda3\\envs\\indata_fa24\\lib\\site-packages (from dash) (72.1.0)\n",
      "Requirement already satisfied: importlib-metadata in c:\\users\\divya\\anaconda3\\envs\\indata_fa24\\lib\\site-packages (from dash) (7.0.1)\n",
      "Requirement already satisfied: Jinja2>=3.1.2 in c:\\users\\divya\\anaconda3\\envs\\indata_fa24\\lib\\site-packages (from Flask<3.1,>=1.0.4->dash) (3.1.4)\n",
      "Requirement already satisfied: itsdangerous>=2.1.2 in c:\\users\\divya\\anaconda3\\envs\\indata_fa24\\lib\\site-packages (from Flask<3.1,>=1.0.4->dash) (2.2.0)\n",
      "Requirement already satisfied: click>=8.1.3 in c:\\users\\divya\\anaconda3\\envs\\indata_fa24\\lib\\site-packages (from Flask<3.1,>=1.0.4->dash) (8.1.7)\n",
      "Requirement already satisfied: blinker>=1.6.2 in c:\\users\\divya\\anaconda3\\envs\\indata_fa24\\lib\\site-packages (from Flask<3.1,>=1.0.4->dash) (1.6.2)\n",
      "Requirement already satisfied: tenacity>=6.2.0 in c:\\users\\divya\\anaconda3\\envs\\indata_fa24\\lib\\site-packages (from plotly>=5.0.0->dash) (8.2.3)\n",
      "Requirement already satisfied: packaging in c:\\users\\divya\\anaconda3\\envs\\indata_fa24\\lib\\site-packages (from plotly>=5.0.0->dash) (24.1)\n",
      "Requirement already satisfied: MarkupSafe>=2.1.1 in c:\\users\\divya\\anaconda3\\envs\\indata_fa24\\lib\\site-packages (from Werkzeug<3.1->dash) (2.1.3)\n",
      "Requirement already satisfied: zipp>=0.5 in c:\\users\\divya\\anaconda3\\envs\\indata_fa24\\lib\\site-packages (from importlib-metadata->dash) (3.20.2)\n",
      "Requirement already satisfied: charset-normalizer<4,>=2 in c:\\users\\divya\\anaconda3\\envs\\indata_fa24\\lib\\site-packages (from requests->dash) (3.3.2)\n",
      "Requirement already satisfied: idna<4,>=2.5 in c:\\users\\divya\\anaconda3\\envs\\indata_fa24\\lib\\site-packages (from requests->dash) (3.7)\n",
      "Requirement already satisfied: urllib3<3,>=1.21.1 in c:\\users\\divya\\anaconda3\\envs\\indata_fa24\\lib\\site-packages (from requests->dash) (2.2.2)\n",
      "Requirement already satisfied: certifi>=2017.4.17 in c:\\users\\divya\\anaconda3\\envs\\indata_fa24\\lib\\site-packages (from requests->dash) (2024.7.4)\n",
      "Requirement already satisfied: six>=1.7.0 in c:\\users\\divya\\anaconda3\\envs\\indata_fa24\\lib\\site-packages (from retrying->dash) (1.16.0)\n",
      "Requirement already satisfied: colorama in c:\\users\\divya\\anaconda3\\envs\\indata_fa24\\lib\\site-packages (from click>=8.1.3->Flask<3.1,>=1.0.4->dash) (0.4.6)\n",
      "Requirement already satisfied: plotly in c:\\users\\divya\\anaconda3\\envs\\indata_fa24\\lib\\site-packages (5.24.1)\n",
      "Requirement already satisfied: tenacity>=6.2.0 in c:\\users\\divya\\anaconda3\\envs\\indata_fa24\\lib\\site-packages (from plotly) (8.2.3)\n",
      "Requirement already satisfied: packaging in c:\\users\\divya\\anaconda3\\envs\\indata_fa24\\lib\\site-packages (from plotly) (24.1)\n",
      "Requirement already satisfied: flask-ngrok in c:\\users\\divya\\anaconda3\\envs\\indata_fa24\\lib\\site-packages (0.0.25)\n",
      "Requirement already satisfied: Flask>=0.8 in c:\\users\\divya\\anaconda3\\envs\\indata_fa24\\lib\\site-packages (from flask-ngrok) (3.0.3)\n",
      "Requirement already satisfied: requests in c:\\users\\divya\\anaconda3\\envs\\indata_fa24\\lib\\site-packages (from flask-ngrok) (2.32.3)\n",
      "Requirement already satisfied: Werkzeug>=3.0.0 in c:\\users\\divya\\anaconda3\\envs\\indata_fa24\\lib\\site-packages (from Flask>=0.8->flask-ngrok) (3.0.6)\n",
      "Requirement already satisfied: Jinja2>=3.1.2 in c:\\users\\divya\\anaconda3\\envs\\indata_fa24\\lib\\site-packages (from Flask>=0.8->flask-ngrok) (3.1.4)\n",
      "Requirement already satisfied: itsdangerous>=2.1.2 in c:\\users\\divya\\anaconda3\\envs\\indata_fa24\\lib\\site-packages (from Flask>=0.8->flask-ngrok) (2.2.0)\n",
      "Requirement already satisfied: click>=8.1.3 in c:\\users\\divya\\anaconda3\\envs\\indata_fa24\\lib\\site-packages (from Flask>=0.8->flask-ngrok) (8.1.7)\n",
      "Requirement already satisfied: blinker>=1.6.2 in c:\\users\\divya\\anaconda3\\envs\\indata_fa24\\lib\\site-packages (from Flask>=0.8->flask-ngrok) (1.6.2)\n",
      "Requirement already satisfied: charset-normalizer<4,>=2 in c:\\users\\divya\\anaconda3\\envs\\indata_fa24\\lib\\site-packages (from requests->flask-ngrok) (3.3.2)\n",
      "Requirement already satisfied: idna<4,>=2.5 in c:\\users\\divya\\anaconda3\\envs\\indata_fa24\\lib\\site-packages (from requests->flask-ngrok) (3.7)\n",
      "Requirement already satisfied: urllib3<3,>=1.21.1 in c:\\users\\divya\\anaconda3\\envs\\indata_fa24\\lib\\site-packages (from requests->flask-ngrok) (2.2.2)\n",
      "Requirement already satisfied: certifi>=2017.4.17 in c:\\users\\divya\\anaconda3\\envs\\indata_fa24\\lib\\site-packages (from requests->flask-ngrok) (2024.7.4)\n",
      "Requirement already satisfied: colorama in c:\\users\\divya\\anaconda3\\envs\\indata_fa24\\lib\\site-packages (from click>=8.1.3->Flask>=0.8->flask-ngrok) (0.4.6)\n",
      "Requirement already satisfied: MarkupSafe>=2.0 in c:\\users\\divya\\anaconda3\\envs\\indata_fa24\\lib\\site-packages (from Jinja2>=3.1.2->Flask>=0.8->flask-ngrok) (2.1.3)\n"
     ]
    }
   ],
   "source": [
    "!pip install dash\n",
    "!pip install plotly\n",
    "!pip install flask-ngrok"
   ]
  },
  {
   "cell_type": "markdown",
   "id": "e50f895c-5b6e-44ef-8070-fbdba9c3c805",
   "metadata": {},
   "source": [
    "## Data Loading and Preprocessing\n",
    "\n",
    "The cleaned dataset should be loaded and preprocessed for dashboard integration in this section.\n",
    "\n",
    "Clustering features in the dataset include cluster assignments and PCA-transformed components.\n",
    "\n",
    "Any missing values have been addressed in previous milestones.\n",
    "\n",
    "For efficiency, the data has been sampled and scaled.\n"
   ]
  },
  {
   "cell_type": "code",
   "execution_count": 41,
   "id": "79beb751-5b58-4230-a063-74f4cb14c11a",
   "metadata": {},
   "outputs": [],
   "source": [
    "from dash import Dash, dcc, html, Input, Output\n",
    "import pandas as pd\n",
    "import numpy as np\n",
    "from sklearn.preprocessing import StandardScaler\n",
    "from sklearn.cluster import MiniBatchKMeans\n",
    "from sklearn.decomposition import PCA\n",
    "from scipy.cluster.hierarchy import linkage\n",
    "import plotly.express as px\n",
    "import plotly.figure_factory as ff\n",
    "\n",
    "# Load dataset\n",
    "df = pd.read_csv('C:/Users/divya/Downloads/product+classification+and+clustering/pricerunner_aggregate.csv')\n",
    "\n",
    "# Data Preprocessing: Fill missing values with the column mean for numeric columns\n",
    "numeric_columns = df.select_dtypes(include=[np.number]).columns\n",
    "df[numeric_columns] = df[numeric_columns].fillna(df[numeric_columns].mean())\n",
    "\n",
    "# Select numeric features for clustering\n",
    "features = df.select_dtypes(include=[np.number])\n",
    "\n",
    "# Normalize features\n",
    "scaler = StandardScaler()\n",
    "scaled_features = scaler.fit_transform(features)\n",
    "\n",
    "# Apply PCA to reduce dimensionality for visualization (2 components)\n",
    "pca = PCA(n_components=2)\n",
    "pca_result = pca.fit_transform(scaled_features)\n",
    "\n",
    "# Create a new DataFrame with PCA results\n",
    "df['PCA1'] = pca_result[:, 0]\n",
    "df['PCA2'] = pca_result[:, 1]\n",
    "\n",
    "# Sample a subset of data if the dataset is too large (optional)\n",
    "sample_size = 1000  # Adjust this size based on your dataset size\n",
    "df_sampled = df.sample(n=sample_size, random_state=42)\n",
    "\n",
    "# Perform K-Means Clustering using MiniBatchKMeans for larger datasets\n",
    "kmeans = MiniBatchKMeans(n_clusters=3, random_state=42)  # Using MiniBatchKMeans for efficiency\n",
    "df_sampled['KMeans_Cluster'] = kmeans.fit_predict(scaled_features[:sample_size])\n"
   ]
  },
  {
   "cell_type": "markdown",
   "id": "8668fa37-b2d8-4e48-972e-4b35bba564cd",
   "metadata": {},
   "source": [
    "## Interactive Dashboard Setup\n",
    "\n",
    "The interactive product clustering dashboard will be hosted by a Dash application that is created here.\n",
    "\n",
    "In the arrangement are:\n",
    "\n",
    "-A drop-down menu with K-Means and Hierarchical clustering algorithms to choose from.\n",
    "\n",
    "-A pair of visuals\n",
    "1. A cluster visualization scatter plot.\n",
    "2. A dendrogram for associations with a hierarchy.\n",
    "\n",
    "### Code Components:\n",
    "\n",
    "1. Dropdown Menu:\n",
    "\n",
    "- Users are able to choose the clustering method.\n",
    "- Hierarchical clustering and K-Means clustering are two options.\n",
    "\n",
    "3. Graph Components:\n",
    "\n",
    "- dcc.Graph is used to display the scatter plot and dendrogram.\n"
   ]
  },
  {
   "cell_type": "code",
   "execution_count": 42,
   "id": "0b20c893-1b93-42a2-a65c-7e36fa37b132",
   "metadata": {},
   "outputs": [],
   "source": [
    "# Create the Dash app\n",
    "app = Dash(__name__)\n",
    "\n",
    "# Create layout for the Dash app\n",
    "app.layout = html.Div([\n",
    "    html.H1('Interactive Product Clusters Dashboard'),\n",
    "\n",
    "    # Dropdown for selecting the clustering method\n",
    "    dcc.Dropdown(\n",
    "        id='cluster-dropdown',\n",
    "        options=[\n",
    "            {'label': 'K-Means Clustering', 'value': 'kmeans'},\n",
    "            {'label': 'Hierarchical Clustering', 'value': 'hierarchical'}\n",
    "        ],\n",
    "        value='kmeans',  # Default value\n",
    "        style={'width': '50%'}\n",
    "    ),\n",
    "\n",
    "    # Scatter plot for K-Means or hierarchical clustering\n",
    "    dcc.Graph(id='cluster-plot'),\n",
    "\n",
    "    # Dendrogram for hierarchical clustering\n",
    "    dcc.Graph(id='dendrogram-plot')\n",
    "])\n",
    "\n"
   ]
  },
  {
   "cell_type": "markdown",
   "id": "8132ad36-00e3-4327-b373-23aef2331d27",
   "metadata": {},
   "source": [
    "## Callback for Dynamic Plot Updates\n",
    "The callback function uses the user's choices from the dropdown menu to dynamically change the visualizations.\n",
    "\n",
    " **Clustering with K-Means**:\n",
    "  - Shows a scatter plot of PCA components with cluster assignments color-coded.\n",
    "\n",
    " **The use of hierarchical clustering**:\n",
    "  - Presents a dendrogram that illustrates the products' hierarchical relationships.\n",
    "\n",
    "### Key Features:\n",
    "1. Input: Choose the clustering technique from the drop-down menu.\n",
    "2.  Outcomes\n",
    "- A scatter plot for clusters using K-Means.\n",
    "- Dendrogram for Clustering Hierarchically.\n",
    "3.   Reason:\n",
    "- If K-Means is chosen, the dendrogram stays blank and the scatter plot is shown.\n",
    "- The scatter plot stays empty and the dendrogram is shown if Hierarchical is chosen.\n"
   ]
  },
  {
   "cell_type": "code",
   "execution_count": 43,
   "id": "a4fd331b-f049-4432-b707-64c46683ed1b",
   "metadata": {},
   "outputs": [
    {
     "data": {
      "text/html": [
       "\n",
       "        <iframe\n",
       "            width=\"100%\"\n",
       "            height=\"650\"\n",
       "            src=\"http://127.0.0.1:8060/\"\n",
       "            frameborder=\"0\"\n",
       "            allowfullscreen\n",
       "            \n",
       "        ></iframe>\n",
       "        "
      ],
      "text/plain": [
       "<IPython.lib.display.IFrame at 0x2049c10f9b0>"
      ]
     },
     "metadata": {},
     "output_type": "display_data"
    }
   ],
   "source": [
    "# Callback to update the cluster plot based on selected method\n",
    "@app.callback(\n",
    "    Output('cluster-plot', 'figure'),\n",
    "    Output('dendrogram-plot', 'figure'),\n",
    "    Input('cluster-dropdown', 'value')\n",
    ")\n",
    "def update_visualization(selected_cluster_method):\n",
    "    # Plot for K-Means clustering\n",
    "    if selected_cluster_method == 'kmeans':\n",
    "        fig = px.scatter(df_sampled, x='PCA1', y='PCA2', color='KMeans_Cluster',\n",
    "                         labels={'PCA1': 'Principal Component 1', 'PCA2': 'Principal Component 2'},\n",
    "                         title=\"K-Means Clusters\")\n",
    "        dendrogram_fig = {}\n",
    "\n",
    "    # Plot for Hierarchical clustering\n",
    "    elif selected_cluster_method == 'hierarchical':\n",
    "        linkage_matrix = linkage(scaled_features[:sample_size], method='ward')\n",
    "        dendrogram_fig = ff.create_dendrogram(linkage_matrix, labels=df_sampled['Product Title'].tolist())\n",
    "        dendrogram_fig.update_layout(title=\"Hierarchical Clustering Dendrogram\")\n",
    "        fig = {}\n",
    "\n",
    "    return fig, dendrogram_fig\n",
    "\n",
    "# Run the app in Jupyter Notebook\n",
    "app.run_server(mode=\"inline\", port=8060)  # Use mode=\"inline\" for Jupyter"
   ]
  },
  {
   "cell_type": "code",
   "execution_count": 44,
   "id": "f7dce0e8-d35a-41d7-a400-dcd82d8c941e",
   "metadata": {},
   "outputs": [],
   "source": [
    "import dash\n",
    "from dash import dcc, html\n",
    "from dash.dependencies import Input, Output\n",
    "import pandas as pd\n",
    "import numpy as np\n",
    "from sklearn.preprocessing import StandardScaler\n",
    "from sklearn.cluster import MiniBatchKMeans\n",
    "from sklearn.decomposition import PCA\n",
    "from scipy.cluster.hierarchy import linkage\n",
    "import plotly.express as px\n",
    "import plotly.figure_factory as ff\n",
    "import plotly.io as pio"
   ]
  },
  {
   "cell_type": "code",
   "execution_count": 45,
   "id": "ed2bd09d-be57-4f74-a933-ff4d101687ec",
   "metadata": {},
   "outputs": [],
   "source": [
    "# Create a Dash app\n",
    "app = dash.Dash(__name__)\n",
    "\n",
    "# Save Plotly figures as HTML files\n",
    "def save_plot_as_html(fig, filename):\n",
    "    fig.write_html(filename)\n",
    "\n",
    "# Create layout for the Dash app\n",
    "app.layout = html.Div([\n",
    "    html.H1('Interactive Product Clusters Dashboard'),\n",
    "\n",
    "    # Dropdown for selecting the clustering method\n",
    "    dcc.Dropdown(\n",
    "        id='cluster-dropdown',\n",
    "        options=[\n",
    "            {'label': 'K-Means Clustering', 'value': 'kmeans'},\n",
    "            {'label': 'Hierarchical Clustering', 'value': 'hierarchical'}\n",
    "        ],\n",
    "        value='kmeans',  # Default value\n",
    "        style={'width': '50%'}\n",
    "    ),\n",
    "\n",
    "    # Scatter plot for K-Means or hierarchical clustering\n",
    "    dcc.Graph(id='cluster-plot'),\n",
    "\n",
    "    # Dendrogram for hierarchical clustering\n",
    "    dcc.Graph(id='dendrogram-plot')\n",
    "])\n",
    "\n"
   ]
  },
  {
   "cell_type": "code",
   "execution_count": 46,
   "id": "c84eb407-5e8e-4b8b-b219-e3053807a972",
   "metadata": {},
   "outputs": [
    {
     "data": {
      "text/html": [
       "\n",
       "        <iframe\n",
       "            width=\"100%\"\n",
       "            height=\"650\"\n",
       "            src=\"http://127.0.0.1:8050/\"\n",
       "            frameborder=\"0\"\n",
       "            allowfullscreen\n",
       "            \n",
       "        ></iframe>\n",
       "        "
      ],
      "text/plain": [
       "<IPython.lib.display.IFrame at 0x2049aabeb10>"
      ]
     },
     "metadata": {},
     "output_type": "display_data"
    }
   ],
   "source": [
    "# Callback to update the cluster plot based on selected method\n",
    "@app.callback(\n",
    "    Output('cluster-plot', 'figure'),\n",
    "    Output('dendrogram-plot', 'figure'),\n",
    "    Input('cluster-dropdown', 'value')\n",
    ")\n",
    "def update_visualization(selected_cluster_method):\n",
    "    # Plot for K-Means clustering\n",
    "    if selected_cluster_method == 'kmeans':\n",
    "        fig = px.scatter(df_sampled, x='PCA1', y='PCA2', color='KMeans_Cluster',\n",
    "                         labels={'PCA1': 'Principal Component 1', 'PCA2': 'Principal Component 2'},\n",
    "                         title=\"K-Means Clusters\")\n",
    "        save_plot_as_html(fig, 'kmeans_clusters.html')  # Save K-Means plot as an HTML file\n",
    "        dendrogram_fig = {}\n",
    "\n",
    "    # Plot for Hierarchical clustering\n",
    "    elif selected_cluster_method == 'hierarchical':\n",
    "        linkage_matrix = linkage(scaled_features[:sample_size], method='ward')\n",
    "        dendrogram_fig = ff.create_dendrogram(linkage_matrix, labels=df_sampled['Product Title'].tolist())\n",
    "        dendrogram_fig.update_layout(title=\"Hierarchical Clustering Dendrogram\")\n",
    "        save_plot_as_html(dendrogram_fig, 'hierarchical_dendrogram.html')  # Save Dendrogram plot as HTML file\n",
    "        fig = {}\n",
    "\n",
    "    return fig, dendrogram_fig\n",
    "\n",
    "# Run the app (without reloader) to start Dash app\n",
    "if __name__ == '__main__':\n",
    "    app.run_server(debug=False, use_reloader=False)  # Don't use reloader for ngrok compatibility\n"
   ]
  },
  {
   "cell_type": "code",
   "execution_count": null,
   "id": "246c12eb-ff37-4168-9857-932f9296663d",
   "metadata": {},
   "outputs": [],
   "source": []
  }
 ],
 "metadata": {
  "kernelspec": {
   "display_name": "Python 3 (ipykernel)",
   "language": "python",
   "name": "python3"
  },
  "language_info": {
   "codemirror_mode": {
    "name": "ipython",
    "version": 3
   },
   "file_extension": ".py",
   "mimetype": "text/x-python",
   "name": "python",
   "nbconvert_exporter": "python",
   "pygments_lexer": "ipython3",
   "version": "3.12.4"
  }
 },
 "nbformat": 4,
 "nbformat_minor": 5
}
