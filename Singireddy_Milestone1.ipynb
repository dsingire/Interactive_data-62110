{
 "cells": [
  {
   "cell_type": "markdown",
   "id": "b5098c9e-2dd4-4663-a162-01f24022d4a7",
   "metadata": {},
   "source": [
    "## MILESTONE 1"
   ]
  },
  {
   "cell_type": "code",
   "execution_count": 1,
   "id": "32280b6d-d28b-4fa1-b2f7-a389ea65e106",
   "metadata": {},
   "outputs": [],
   "source": [
    "import pandas as pd\n",
    "from sklearn.preprocessing import MinMaxScaler\n",
    "import numpy as np\n",
    "from scipy import stats"
   ]
  },
  {
   "cell_type": "code",
   "execution_count": 6,
   "id": "88a9bf60-126d-46b3-84f4-eca3907cb7b1",
   "metadata": {},
   "outputs": [
    {
     "name": "stdout",
     "output_type": "stream",
     "text": [
      "Dataset Info:\n",
      "<class 'pandas.core.frame.DataFrame'>\n",
      "RangeIndex: 35311 entries, 0 to 35310\n",
      "Data columns (total 7 columns):\n",
      " #   Column           Non-Null Count  Dtype \n",
      "---  ------           --------------  ----- \n",
      " 0   Product ID       35311 non-null  int64 \n",
      " 1   Product Title    35311 non-null  object\n",
      " 2    Merchant ID     35311 non-null  int64 \n",
      " 3    Cluster ID      35311 non-null  int64 \n",
      " 4    Cluster Label   35311 non-null  object\n",
      " 5    Category ID     35311 non-null  int64 \n",
      " 6    Category Label  35311 non-null  object\n",
      "dtypes: int64(4), object(3)\n",
      "memory usage: 1.9+ MB\n",
      "None\n",
      "\n",
      "Missing Values in Each Column:\n",
      "Product ID         0\n",
      "Product Title      0\n",
      " Merchant ID       0\n",
      " Cluster ID        0\n",
      " Cluster Label     0\n",
      " Category ID       0\n",
      " Category Label    0\n",
      "dtype: int64\n",
      "\n",
      "Summary Statistics:\n",
      "         Product ID   Merchant ID    Cluster ID   Category ID\n",
      "count  35311.000000  35311.000000  35311.000000  35311.000000\n",
      "mean   26150.800176    120.501883  30110.687633   2618.142930\n",
      "std    13498.191220    117.045557  18410.265642      3.600708\n",
      "min        1.000000      1.000000      1.000000   2612.000000\n",
      "25%    14958.500000     17.000000   6123.000000   2615.000000\n",
      "50%    27614.000000     75.000000  40630.000000   2619.000000\n",
      "75%    37508.500000    253.000000  44059.000000   2622.000000\n",
      "max    47358.000000    371.000000  47525.000000   2623.000000\n"
     ]
    }
   ],
   "source": [
    "# Load the dataset\n",
    "url = \"C:/Users/divya/Downloads/product+classification+and+clustering/pricerunner_aggregate.csv\" \n",
    "product_df = pd.read_csv(url)\n",
    "\n",
    "# Examine the dataset to find fundamental information and missing values.\n",
    "print(\"Dataset Info:\")\n",
    "print(product_df.info())\n",
    "print(\"\\nMissing Values in Each Column:\")\n",
    "print(product_df.isnull().sum())\n",
    "print(\"\\nSummary Statistics:\")\n",
    "print(product_df.describe())"
   ]
  },
  {
   "cell_type": "code",
   "execution_count": 7,
   "id": "95450a5f-71a2-40d0-bf61-8fd332a45865",
   "metadata": {},
   "outputs": [],
   "source": [
    "# Deal with Missing Values\n",
    "# Fill in the missing values: use the mode for categories and the median for numeric columns.\n",
    "numeric_cols = product_df.select_dtypes(include=[np.number]).columns\n",
    "categorical_cols = product_df.select_dtypes(include=['object']).columns\n",
    "\n",
    "product_df[numeric_cols] = product_df[numeric_cols].fillna(product_df[numeric_cols].median())\n",
    "product_df[categorical_cols] = product_df[categorical_cols].apply(lambda x: x.fillna(x.mode()[0]))"
   ]
  },
  {
   "cell_type": "code",
   "execution_count": 8,
   "id": "2e86612e-9f29-49dd-bdfb-f3de088bf07a",
   "metadata": {},
   "outputs": [],
   "source": [
    "# Adjust Columns of Numerical Data\n",
    "scaler = MinMaxScaler()\n",
    "\n",
    "# Assuming that 'Cluster ID' and 'Category ID' are numbers, substitute real feature names as necessary.\n",
    "features_to_normalize = [' Cluster ID', ' Category ID']  \n",
    "product_df[features_to_normalize] = scaler.fit_transform(product_df[features_to_normalize])"
   ]
  },
  {
   "cell_type": "code",
   "execution_count": 9,
   "id": "53236255-6493-4dcf-a9df-191dbd3b440b",
   "metadata": {},
   "outputs": [
    {
     "name": "stdout",
     "output_type": "stream",
     "text": [
      "\n",
      "Cleaned Dataset Info:\n",
      "<class 'pandas.core.frame.DataFrame'>\n",
      "RangeIndex: 35311 entries, 0 to 35310\n",
      "Data columns (total 7 columns):\n",
      " #   Column           Non-Null Count  Dtype  \n",
      "---  ------           --------------  -----  \n",
      " 0   Product ID       35311 non-null  int64  \n",
      " 1   Product Title    35311 non-null  object \n",
      " 2    Merchant ID     35311 non-null  int64  \n",
      " 3    Cluster ID      35311 non-null  float64\n",
      " 4    Cluster Label   35311 non-null  object \n",
      " 5    Category ID     35311 non-null  float64\n",
      " 6    Category Label  35311 non-null  object \n",
      "dtypes: float64(2), int64(2), object(3)\n",
      "memory usage: 1.9+ MB\n",
      "None\n",
      "\n",
      "Remaining Missing Values:\n",
      "Product ID         0\n",
      "Product Title      0\n",
      " Merchant ID       0\n",
      " Cluster ID        0\n",
      " Cluster Label     0\n",
      " Category ID       0\n",
      " Category Label    0\n",
      "dtype: int64\n"
     ]
    }
   ],
   "source": [
    "# Eliminate Outliers \n",
    "# Filter out rows where any feature has a z-score greater than three using z-score.\n",
    "product_df = product_df[(np.abs(stats.zscore(product_df[features_to_normalize])) < 3).all(axis=1)]\n",
    "\n",
    "# Last Verification: Show the data once it has been cleaned and look for any missing values.\n",
    "print(\"\\nCleaned Dataset Info:\")\n",
    "print(product_df.info())\n",
    "print(\"\\nRemaining Missing Values:\")\n",
    "print(product_df.isnull().sum())\n"
   ]
  },
  {
   "cell_type": "code",
   "execution_count": null,
   "id": "d37a52b5-592b-4f29-bb38-19b6597bf125",
   "metadata": {},
   "outputs": [],
   "source": []
  }
 ],
 "metadata": {
  "kernelspec": {
   "display_name": "Python 3 (ipykernel)",
   "language": "python",
   "name": "python3"
  },
  "language_info": {
   "codemirror_mode": {
    "name": "ipython",
    "version": 3
   },
   "file_extension": ".py",
   "mimetype": "text/x-python",
   "name": "python",
   "nbconvert_exporter": "python",
   "pygments_lexer": "ipython3",
   "version": "3.12.4"
  }
 },
 "nbformat": 4,
 "nbformat_minor": 5
}
