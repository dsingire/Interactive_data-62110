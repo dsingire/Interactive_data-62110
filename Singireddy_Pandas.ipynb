{
 "cells": [
  {
   "cell_type": "code",
   "execution_count": 35,
   "id": "36dca198-6eae-4e24-8ac2-a2a67d24b834",
   "metadata": {},
   "outputs": [],
   "source": [
    "import pandas as pd"
   ]
  },
  {
   "cell_type": "code",
   "execution_count": 36,
   "id": "65a011a2-2389-4083-b9b0-f1a130c99d48",
   "metadata": {},
   "outputs": [],
   "source": [
    "# Create a DataFrame.\n",
    "data = {\n",
    "    'A': [1,2,3],\n",
    "    'B': ['Divya','Krithika','Teja'],\n",
    "    'C': [False, True, False]}"
   ]
  },
  {
   "cell_type": "code",
   "execution_count": 37,
   "id": "1176fc48-d27d-4787-970a-38c3b248a109",
   "metadata": {},
   "outputs": [],
   "source": [
    "df = pd.DataFrame(data)"
   ]
  },
  {
   "cell_type": "code",
   "execution_count": 38,
   "id": "a5a49bcf-c90e-4128-b686-76b05825438f",
   "metadata": {},
   "outputs": [
    {
     "name": "stdout",
     "output_type": "stream",
     "text": [
      "Head of DataFrame:\n",
      "   A         B      C\n",
      "0  1     Divya  False\n",
      "1  2  Krithika   True\n",
      "2  3      Teja  False\n"
     ]
    }
   ],
   "source": [
    "# View the DataFrame's head\n",
    "print(\"Head of DataFrame:\")\n",
    "print(df.head())"
   ]
  },
  {
   "cell_type": "code",
   "execution_count": 39,
   "id": "95fdd8ca-18f2-4771-bc86-732b2223c5aa",
   "metadata": {},
   "outputs": [
    {
     "name": "stdout",
     "output_type": "stream",
     "text": [
      "\n",
      "Index of DataFrame:\n",
      "RangeIndex(start=0, stop=3, step=1)\n"
     ]
    }
   ],
   "source": [
    "# View the DataFrame's index\n",
    "print(\"\\nIndex of DataFrame:\")\n",
    "print(df.index)"
   ]
  },
  {
   "cell_type": "code",
   "execution_count": 40,
   "id": "5b6d1d45-65dc-49d5-bfd7-b58a5e555cc6",
   "metadata": {},
   "outputs": [
    {
     "name": "stdout",
     "output_type": "stream",
     "text": [
      "\n",
      "First column of DataFrame:\n",
      "0    1\n",
      "1    2\n",
      "2    3\n",
      "Name: A, dtype: int64\n"
     ]
    }
   ],
   "source": [
    "# Select and View the DataFrame's first column.\n",
    "print(\"\\nFirst column of DataFrame:\")\n",
    "print(df['A'])"
   ]
  },
  {
   "cell_type": "code",
   "execution_count": 41,
   "id": "0ffcaa80-2b59-4663-a139-461e2202feb8",
   "metadata": {},
   "outputs": [
    {
     "name": "stdout",
     "output_type": "stream",
     "text": [
      "\n",
      "First row of DataFrame:\n",
      "A        1\n",
      "B    Divya\n",
      "C    False\n",
      "Name: 0, dtype: object\n"
     ]
    }
   ],
   "source": [
    "# Select and display the DataFrame's top row.\n",
    "print(\"\\nFirst row of DataFrame:\")\n",
    "print(df.iloc[0])"
   ]
  },
  {
   "cell_type": "code",
   "execution_count": 42,
   "id": "8cc1cfbf-9eb2-4907-8923-589fd0cbcfa5",
   "metadata": {},
   "outputs": [
    {
     "name": "stdout",
     "output_type": "stream",
     "text": [
      "list: [('A', [1, 2, 3]), ('B', ['Divya', 'Krithika', 'Teja']), ('C', [False, True, False])]\n"
     ]
    }
   ],
   "source": [
    "# Converting dictionary to a list of items\n",
    "Data_1 = list(data.items())\n",
    "print(\"list:\",Data_1)"
   ]
  },
  {
   "cell_type": "code",
   "execution_count": 43,
   "id": "9d4a1099-8c45-474e-a555-cb44c77242c2",
   "metadata": {},
   "outputs": [
    {
     "name": "stdout",
     "output_type": "stream",
     "text": [
      "  Column_Name                   Values\n",
      "0           A                [1, 2, 3]\n",
      "1           B  [Divya, Krithika, Teja]\n",
      "2           C     [False, True, False]\n"
     ]
    }
   ],
   "source": [
    "# Creating a DataFrame from the list\n",
    "df = pd.DataFrame(Data_1, columns=[\"Column_Name\", \"Values\"])\n",
    "\n",
    "# Displaying the DataFrame\n",
    "print(df)\n"
   ]
  },
  {
   "cell_type": "code",
   "execution_count": 48,
   "id": "d49695e8-a4ed-49a6-a563-df08e7fe0b58",
   "metadata": {},
   "outputs": [],
   "source": [
    "# Create a new CSV file with the DataFrame.\n",
    "df.to_csv('data.csv', index=False)"
   ]
  },
  {
   "cell_type": "markdown",
   "id": "7296b5fe-1ae0-4631-b769-1fe2123931d5",
   "metadata": {},
   "source": [
    "For those who create interactive data visualizations, Murray (2017) Chapter 1 describes the write/render/evaluate cycle as a structured method. The following is how each part helps:\n",
    "\n",
    "Write: Creating and coding the first iteration of the visualization is the focus of this stage. With their programming environment or visualization tools, creators specify the interactive elements, data, and layout.\\\n",
    "Render: The code is run at this stage in order to create and show the visualization. It gives artists a tangible sense of their work by enabling them to see how their interactions and designs are portrayed graphically.\\\n",
    "Evaluate: In this stage, designers evaluate the visualization's usability and efficacy. They examine how well it meets their objectives, engages people, and conveys the required information. The evaluation's findings and feedback guide the required modifications.\n",
    "\n",
    "Dynamic,interactive data visualizations offer several key advantages in data communication:\\\n",
    "**Engagement**: These visualizations allow viewers to interact with the data directly, which enhances their involvement and helps them \n",
    "remember the information better.\\\n",
    "**Customization**: They enable users to adjust the view to suit their preferences and focus on specific details or aspects of interest.\\\n",
    "**Insight Discovery**: Features like tooltips, zooming, and filtering help users uncover patterns and insights that might be missed in static \n",
    "visualizations.\\\n",
    "**Storytelling**: Interactive visualizations can be used to craft narratives, guiding the audience through the data and emphasizing key points for better understanding.\n",
    "\n",
    "Open-source tools for publishing data visualizations offer flexibility, customization, and transparency, as they allow modifications and \n",
    "community contributions. However, the best choice depends on project needs, expertise, and resources, as proprietary software might provide \n",
    "advanced features or better support. The decision should align with the specific goals and benefits of each option.\n",
    "tions."
   ]
  }
 ],
 "metadata": {
  "kernelspec": {
   "display_name": "Python 3 (ipykernel)",
   "language": "python",
   "name": "python3"
  },
  "language_info": {
   "codemirror_mode": {
    "name": "ipython",
    "version": 3
   },
   "file_extension": ".py",
   "mimetype": "text/x-python",
   "name": "python",
   "nbconvert_exporter": "python",
   "pygments_lexer": "ipython3",
   "version": "3.12.4"
  }
 },
 "nbformat": 4,
 "nbformat_minor": 5
}
